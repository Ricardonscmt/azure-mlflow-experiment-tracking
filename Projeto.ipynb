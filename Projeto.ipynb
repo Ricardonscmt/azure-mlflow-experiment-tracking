{
  "cells": [
    {
      "cell_type": "markdown",
      "source": [
        "# Projeto: Rastreamento de Experimentos com MLflow e Azure ML\n",
        "\n",
        "Este notebook demonstra uma capacidade fundamental de MLOps: o **rastreamento de experimentos** de machine learning. \n",
        "\n",
        "Utilizando a biblioteca open-source **MLflow** integrada ao **Azure Machine Learning**, este projeto mostra como registrar, monitorar e organizar execuções de treinamento de modelos.\n",
        "\n",
        "**Objetivo:**\n",
        "O objetivo não é apenas treinar um modelo, mas criar um processo **reprodutível** e **auditável**, onde cada parâmetro, métrica e artefato (como o próprio modelo) é salvo e versionado.\n",
        "\n",
        "**Etapas:**\n",
        "1.  Conexão ao Workspace do Azure ML.\n",
        "2.  Preparação dos dados de diabetes.\n",
        "3.  Configuração do Experimento MLflow.\n",
        "4.  Execução 1: Treinamento com **Autologging**.\n",
        "5.  Execução 2: Treinamento com **Rastreamento Manual** (Parâmetros e Métricas).\n",
        "6.  Execução 3: Comparação de Hiperparâmetros.\n",
        "7.  Execução 4: Comparação de Modelos (Árvore de Decisão).\n",
        "8.  Execução 5: Rastreamento de Artefatos (Plot da Curva ROC)."
      ],
      "metadata": {
        "nteract": {
          "transient": {
            "deleting": false
          }
        }
      }
    },
    {
      "cell_type": "markdown",
      "source": [
        "## 1. Configuração e Conexão ao Workspace\n",
        "\n",
        "Primeiro, importamos todas as bibliotecas necessárias e nos conectamos ao Workspace do Azure ML usando o SDK v2."
      ],
      "metadata": {
        "nteract": {
          "transient": {
            "deleting": false
          }
        }
      }
    },
    {
      "cell_type": "code",
      "source": [
        "# Imports do Azure ML\n",
        "from azure.identity import DefaultAzureCredential, InteractiveBrowserCredential\n",
        "from azure.ai.ml import MLClient\n",
        "\n",
        "# Import do MLflow\n",
        "import mlflow\n",
        "import mlflow.sklearn\n",
        "\n",
        "# Bibliotecas de Data Science e Modelagem\n",
        "import pandas as pd\n",
        "import numpy as np\n",
        "from sklearn.model_selection import train_test_split\n",
        "from sklearn.linear_model import LogisticRegression\n",
        "from sklearn.tree import DecisionTreeClassifier\n",
        "from sklearn.metrics import roc_curve\n",
        "import matplotlib.pyplot as plt\n",
        "\n",
        "print(\"Bibliotecas importadas com sucesso.\")"
      ],
      "outputs": [],
      "execution_count": null,
      "metadata": {}
    },
    {
      "cell_type": "code",
      "source": [
        "try:\n",
        "    credential = DefaultAzureCredential()\n",
        "    credential.get_token(\"https://management.azure.com/.default\")\n",
        "except Exception as ex:\n",
        "    credential = InteractiveBrowserCredential()\n",
        "\n",
        "# Carrega a configuração do workspace (do config.json)\n",
        "ml_client = MLClient.from_config(credential=credential)\n",
        "\n",
        "print(f\"Conectado ao workspace: {ml_client.workspace_name}\")"
      ],
      "outputs": [],
      "execution_count": null,
      "metadata": {}
    },
    {
      "cell_type": "markdown",
      "source": [
        "## 2. Preparação dos Dados\n",
        "\n",
        "Carregamos o dataset de diabetes, separamos as *features* (X) e o *label* (y), e dividimos em conjuntos de treino e teste."
      ],
      "metadata": {
        "nteract": {
          "transient": {
            "deleting": false
          }
        }
      }
    },
    {
      "cell_type": "code",
      "source": [
        "# Carregar os dados\n",
        "print(\"Carregando dados...\")\n",
        "df = pd.read_csv('./data/diabetes.csv')\n",
        "\n",
        "# Separar features e label\n",
        "X, y = df[['Pregnancies','PlasmaGlucose','DiastolicBloodPressure','TricepsThickness','SerumInsulin','BMI','DiabetesPedigree','Age']].values, df['Diabetic'].values\n",
        "\n",
        "# Dividir em treino e teste\n",
        "X_train, X_test, y_train, y_test = train_test_split(X, y, test_size=0.30, random_state=0)\n",
        "\n",
        "print(f\"Dados prontos: {X_train.shape[0]} amostras de treino, {X_test.shape[0]} amostras de teste.\")"
      ],
      "outputs": [],
      "execution_count": null,
      "metadata": {}
    },
    {
      "cell_type": "markdown",
      "source": [
        "## 3. Configuração do Experimento MLflow\n",
        "\n",
        "Antes de treinar, definimos um **Experimento** no MLflow. Isso agrupará todas as nossas execuções (runs) relacionadas sob um único nome no Azure ML Studio, facilitando a comparação."
      ],
      "metadata": {
        "nteract": {
          "transient": {
            "deleting": false
          }
        }
      }
    },
    {
      "cell_type": "code",
      "source": [
        "experiment_name = \"projeto-mlflow-diabetes\"\n",
        "mlflow.set_experiment(experiment_name)\n",
        "\n",
        "print(f\"Experimento '{experiment_name}' configurado.\")"
      ],
      "outputs": [],
      "execution_count": null,
      "metadata": {}
    },
    {
      "cell_type": "markdown",
      "source": [
        "## 4. Execução 1: Treinamento com Autologging\n",
        "\n",
        "O MLflow oferece uma funcionalidade de `autolog()` que rastreia automaticamente parâmetros, métricas e o modelo com apenas uma linha de código. É ótimo para prototipagem rápida."
      ],
      "metadata": {
        "nteract": {
          "transient": {
            "deleting": false
          }
        }
      }
    },
    {
      "cell_type": "code",
      "source": [
        "# O Autologging rastreia tudo automaticamente\n",
        "print(\"Iniciando execução com Autologging...\")\n",
        "with mlflow.start_run():\n",
        "    mlflow.sklearn.autolog()\n",
        "    \n",
        "    # Treina o modelo\n",
        "    model = LogisticRegression(C=1/0.1, solver=\"liblinear\").fit(X_train, y_train)\n",
        "    \n",
        "print(\"Execução com Autologging concluída.\")"
      ],
      "outputs": [],
      "execution_count": null,
      "metadata": {}
    },
    {
      "cell_type": "markdown",
      "source": [
        "## 5. Execução 2: Treinamento com Rastreamento Manual\n",
        "\n",
        "O Autologging é conveniente, mas às vezes queremos controle total sobre o que é registrado. Vamos desabilitar o autologging e registrar manualmente um parâmetro (`regularization_rate`) e uma métrica (`Accuracy`)."
      ],
      "metadata": {
        "nteract": {
          "transient": {
            "deleting": false
          }
        }
      }
    },
    {
      "cell_type": "code",
      "source": [
        "# Desabilita o autologging para as próximas execuções\n",
        "mlflow.sklearn.autolog(disable=True)\n",
        "\n",
        "print(\"Iniciando execução com Rastreamento Manual...\")\n",
        "with mlflow.start_run():\n",
        "    # Treina o modelo\n",
        "    reg_rate = 0.1\n",
        "    model = LogisticRegression(C=1/reg_rate, solver=\"liblinear\").fit(X_train, y_train)\n",
        "\n",
        "    # Avalia o modelo\n",
        "    y_hat = model.predict(X_test)\n",
        "    acc = np.average(y_hat == y_test)\n",
        "\n",
        "    # Rastreamento Manual\n",
        "    mlflow.log_param(\"regularization_rate\", reg_rate)\n",
        "    mlflow.log_metric(\"Accuracy\", acc)\n",
        "    \n",
        "    print(f\"Execução manual concluída. Accuracy: {acc:.4f}\")"
      ],
      "outputs": [],
      "execution_count": null,
      "metadata": {}
    },
    {
      "cell_type": "markdown",
      "source": [
        "## 6. Execução 3: Comparação de Hiperparâmetros\n",
        "\n",
        "O principal uso do MLflow é comparar experimentos. Vamos treinar o mesmo modelo, mas com um hiperparâmetro diferente (taxa de regularização = 0.01) e registrar os resultados."
      ],
      "metadata": {
        "nteract": {
          "transient": {
            "deleting": false
          }
        }
      }
    },
    {
      "cell_type": "code",
      "source": [
        "print(\"Iniciando Execução 3 (Hiperparâmetro diferente)...\")\n",
        "with mlflow.start_run():\n",
        "    # Treina o modelo com um novo hiperparâmetro\n",
        "    reg_rate = 0.01\n",
        "    model = LogisticRegression(C=1/reg_rate, solver=\"liblinear\").fit(X_train, y_train)\n",
        "\n",
        "    # Avalia o modelo\n",
        "    y_hat = model.predict(X_test)\n",
        "    acc = np.average(y_hat == y_test)\n",
        "\n",
        "    # Rastreamento Manual\n",
        "    mlflow.log_param(\"regularization_rate\", reg_rate)\n",
        "    mlflow.log_metric(\"Accuracy\", acc)\n",
        "    \n",
        "    print(f\"Execução 3 concluída. Accuracy: {acc:.4f}\")"
      ],
      "outputs": [],
      "execution_count": null,
      "metadata": {}
    },
    {
      "cell_type": "markdown",
      "source": [
        "## 7. Execução 4: Comparação de Modelos (Árvore de Decisão)\n",
        "\n",
        "Agora, vamos comparar um algoritmo completamente diferente. Treinaremos uma `DecisionTreeClassifier` e registraremos sua acurácia."
      ],
      "metadata": {
        "nteract": {
          "transient": {
            "deleting": false
          }
        }
      }
    },
    {
      "cell_type": "code",
      "source": [
        "print(\"Iniciando Execução 4 (Estimador diferente)...\")\n",
        "with mlflow.start_run():\n",
        "    # Treina um modelo diferente\n",
        "    model = DecisionTreeClassifier().fit(X_train, y_train)\n",
        "\n",
        "    # Avalia o modelo\n",
        "    y_hat = model.predict(X_test)\n",
        "    acc = np.average(y_hat == y_test)\n",
        "\n",
        "    # Rastreamento Manual\n",
        "    mlflow.log_param(\"estimator_name\", \"DecisionTreeClassifier\")\n",
        "    mlflow.log_metric(\"Accuracy\", acc)\n",
        "    \n",
        "    print(f\"Execução 4 concluída. Accuracy: {acc:.4f}\")"
      ],
      "outputs": [],
      "execution_count": null,
      "metadata": {}
    },
    {
      "cell_type": "markdown",
      "source": [
        "## 8. Execução 5: Rastreamento de Artefatos (Curva ROC)\n",
        "\n",
        "O MLflow não serve apenas para números, ele também pode salvar arquivos, chamados **Artefatos**. Vamos treinar o modelo de Árvore de Decisão novamente, mas desta vez vamos gerar um gráfico da **Curva ROC** e salvá-lo como uma imagem (`.png`) junto com a execução."
      ],
      "metadata": {
        "nteract": {
          "transient": {
            "deleting": false
          }
        }
      }
    },
    {
      "cell_type": "code",
      "source": [
        "print(\"Iniciando Execução 5 (Com Artefato)...\")\n",
        "with mlflow.start_run():\n",
        "    # Treina o modelo\n",
        "    model = DecisionTreeClassifier().fit(X_train, y_train)\n",
        "\n",
        "    # Avalia o modelo\n",
        "    y_hat = model.predict(X_test)\n",
        "    acc = np.average(y_hat == y_test)\n",
        "\n",
        "    # --- Criação do Artefato (Gráfico ROC) ---\n",
        "    y_scores = model.predict_proba(X_test)\n",
        "    fpr, tpr, thresholds = roc_curve(y_test, y_scores[:,1])\n",
        "    \n",
        "    fig = plt.figure(figsize=(6, 4))\n",
        "    plt.plot([0, 1], [0, 1], 'k--') # Linha diagonal\n",
        "    plt.plot(fpr, tpr)\n",
        "    plt.xlabel('False Positive Rate')\n",
        "    plt.ylabel('True Positive Rate')\n",
        "    plt.title('ROC Curve')\n",
        "    \n",
        "    # Salva a figura localmente\n",
        "    plot_filename = \"ROC-Curve.png\"\n",
        "    plt.savefig(plot_filename)\n",
        "    plt.close(fig) # Fecha a figura para não exibir no notebook\n",
        "    \n",
        "    # Rastreamento Manual\n",
        "    mlflow.log_param(\"estimator_name\", \"DecisionTreeClassifier\")\n",
        "    mlflow.log_metric(\"Accuracy\", acc)\n",
        "    \n",
        "    # Log do Artefato\n",
        "    mlflow.log_artifact(plot_filename)\n",
        "    \n",
        "    print(f\"Execução 5 concluída. Artefato 'ROC-Curve.png' registrado.\")"
      ],
      "outputs": [],
      "execution_count": null,
      "metadata": {}
    },
    {
      "cell_type": "markdown",
      "source": [
        "## 9. Conclusão e Próximos Passos\n",
        "\n",
        "Todos os 5 experimentos foram registrados com sucesso!\n",
        "\n",
        "Para ver os resultados, vá para o seu **Workspace do Azure ML Studio**:\n",
        "1.  Clique na aba **\"Trabalhos\" (Jobs)**.\n",
        "2.  Clique no experimento chamado **`projeto-mlflow-diabetes`**.\n",
        "3.  Você verá todas as 5 execuções (runs) que acabamos de fazer.\n",
        "4.  Selecione várias e clique em **\"Comparar\"** para ver as métricas e parâmetros lado a lado.\n",
        "5.  Na \"Execução 5\", clique nela, vá para **\"Saídas + logs\"** e você encontrará o artefato `ROC-Curve.png` salvo.\n",
        "\n",
        "Temos agora um histórico completo e auditável dos nossos experimentos, permitindo total reprodutibilidade."
      ],
      "metadata": {
        "nteract": {
          "transient": {
            "deleting": false
          }
        }
      }
    }
  ],
  "metadata": {
    "kernelspec": {
      "name": "python310-sdkv2",
      "language": "python",
      "display_name": "Python 3.10 - SDK v2"
    },
    "language_info": {
      "name": "python",
      "version": "3.10.18",
      "mimetype": "text/x-python",
      "codemirror_mode": {
        "name": "ipython",
        "version": 3
      },
      "pygments_lexer": "ipython3",
      "nbconvert_exporter": "python",
      "file_extension": ".py"
    },
    "kernel_info": {
      "name": "python310-sdkv2"
    },
    "nteract": {
      "version": "nteract-front-end@1.0.0"
    }
  },
  "nbformat": 4,
  "nbformat_minor": 2
}